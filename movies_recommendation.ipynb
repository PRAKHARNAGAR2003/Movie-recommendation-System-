{
  "nbformat": 4,
  "nbformat_minor": 0,
  "metadata": {
    "colab": {
      "provenance": []
    },
    "kernelspec": {
      "name": "python3",
      "display_name": "Python 3"
    },
    "language_info": {
      "name": "python"
    }
  },
  "cells": [
    {
      "cell_type": "code",
      "execution_count": null,
      "metadata": {
        "id": "l8wvzdLSTcJO"
      },
      "outputs": [],
      "source": [
        "import numpy as np\n",
        "import pandas as pd\n",
        "from sklearn.feature_extraction.text import CountVectorizer\n",
        "from sklearn.metrics.pairwise import cosine_similarity"
      ]
    },
    {
      "cell_type": "code",
      "source": [
        "def get_title_form_index(index):\n",
        "  return df[df.index == index][\"title\"].values[0]"
      ],
      "metadata": {
        "id": "R5cKlJvwbB39"
      },
      "execution_count": null,
      "outputs": []
    },
    {
      "cell_type": "code",
      "source": [
        "def get_index_form_title(title):\n",
        "    return df[df.title == title][\"index\"].values[0]\n"
      ],
      "metadata": {
        "id": "m65uEk5NbdZU"
      },
      "execution_count": null,
      "outputs": []
    },
    {
      "cell_type": "code",
      "source": [
        "# Read the csv file\n",
        "df = pd.read_csv('movie_dataset.csv');\n",
        "print(df.columns)"
      ],
      "metadata": {
        "id": "5_7M4H6tcoED",
        "colab": {
          "base_uri": "https://localhost:8080/"
        },
        "outputId": "f1c4cdff-91d5-44ea-c2f0-952a7844ebdb"
      },
      "execution_count": null,
      "outputs": [
        {
          "output_type": "stream",
          "name": "stdout",
          "text": [
            "Index(['index', 'budget', 'genres', 'homepage', 'id', 'keywords',\n",
            "       'original_language', 'original_title', 'overview', 'popularity',\n",
            "       'production_companies', 'production_countries', 'release_date',\n",
            "       'revenue', 'runtime', 'spoken_languages', 'status', 'tagline', 'title',\n",
            "       'vote_average', 'vote_count', 'cast', 'crew', 'director'],\n",
            "      dtype='object')\n"
          ]
        }
      ]
    },
    {
      "cell_type": "code",
      "source": [
        "# select features\n",
        "features = ['keywords', 'cast', 'genres', 'director']"
      ],
      "metadata": {
        "id": "-tV9b8QYegz9"
      },
      "execution_count": null,
      "outputs": []
    },
    {
      "cell_type": "code",
      "source": [
        "# Create a column in DF which combines all selected features\n",
        "\n",
        "for feature in features:\n",
        "  df[feature] = df[feature].fillna('')\n",
        "\n",
        "def combine_features(row):\n",
        "  return row['keywords'] + \" \" + row['cast'] + \" \" + row[\"genres\"] + \" \" + row[\"director\"]\n",
        "\n",
        "df['combined_features'] = df.apply(combine_features, axis = 1)\n",
        "print(\"Combined features\",df['combined_features'].head())"
      ],
      "metadata": {
        "colab": {
          "base_uri": "https://localhost:8080/"
        },
        "id": "opyMSzs2fdJ-",
        "outputId": "f1671a34-26a0-426b-fa70-fc0df0c83615"
      },
      "execution_count": null,
      "outputs": [
        {
          "output_type": "stream",
          "name": "stdout",
          "text": [
            "Combined features 0    culture clash future space war space colony so...\n",
            "1    ocean drug abuse exotic island east india trad...\n",
            "2    spy based on novel secret agent sequel mi6 Dan...\n",
            "3    dc comics crime fighter terrorist secret ident...\n",
            "4    based on novel mars medallion space travel pri...\n",
            "Name: combined_features, dtype: object\n"
          ]
        }
      ]
    },
    {
      "cell_type": "code",
      "source": [
        "# create a count matrix from this new count matrix\n",
        "cv = CountVectorizer()\n",
        "\n",
        "count_matrix = cv.fit_transform(df['combined_features'])\n",
        "print(count_matrix)"
      ],
      "metadata": {
        "colab": {
          "base_uri": "https://localhost:8080/"
        },
        "id": "VJdOiQslf8mz",
        "outputId": "a60d1033-36b9-4acc-e2d5-3e35c1e048b5"
      },
      "execution_count": null,
      "outputs": [
        {
          "output_type": "stream",
          "name": "stdout",
          "text": [
            "  (0, 3115)\t1\n",
            "  (0, 2616)\t1\n",
            "  (0, 4886)\t1\n",
            "  (0, 12386)\t2\n",
            "  (0, 14235)\t1\n",
            "  (0, 2755)\t1\n",
            "  (0, 12299)\t1\n",
            "  (0, 11517)\t1\n",
            "  (0, 14561)\t1\n",
            "  (0, 14820)\t1\n",
            "  (0, 11490)\t1\n",
            "  (0, 12134)\t1\n",
            "  (0, 14291)\t1\n",
            "  (0, 12567)\t1\n",
            "  (0, 7496)\t1\n",
            "  (0, 8831)\t1\n",
            "  (0, 11217)\t1\n",
            "  (0, 86)\t1\n",
            "  (0, 144)\t1\n",
            "  (0, 4435)\t1\n",
            "  (0, 11745)\t1\n",
            "  (0, 4566)\t1\n",
            "  (0, 6542)\t1\n",
            "  (0, 2061)\t1\n",
            "  (1, 86)\t1\n",
            "  :\t:\n",
            "  (4801, 10069)\t1\n",
            "  (4801, 5844)\t1\n",
            "  (4801, 252)\t1\n",
            "  (4801, 4098)\t1\n",
            "  (4801, 14796)\t1\n",
            "  (4801, 11361)\t1\n",
            "  (4801, 2978)\t1\n",
            "  (4801, 12036)\t1\n",
            "  (4801, 6138)\t1\n",
            "  (4802, 9659)\t1\n",
            "  (4802, 3812)\t1\n",
            "  (4802, 1788)\t2\n",
            "  (4802, 4210)\t1\n",
            "  (4802, 5181)\t1\n",
            "  (4802, 2912)\t1\n",
            "  (4802, 3821)\t1\n",
            "  (4802, 1069)\t1\n",
            "  (4802, 11185)\t1\n",
            "  (4802, 3681)\t1\n",
            "  (4802, 5399)\t1\n",
            "  (4802, 3894)\t1\n",
            "  (4802, 2056)\t1\n",
            "  (4802, 3093)\t1\n",
            "  (4802, 4502)\t1\n",
            "  (4802, 5900)\t2\n"
          ]
        }
      ]
    },
    {
      "cell_type": "code",
      "source": [
        "# compute cosine similarities based on the count matrix\n",
        "cosine_sim = cosine_similarity(count_matrix)\n",
        "print(cosine_sim)"
      ],
      "metadata": {
        "colab": {
          "base_uri": "https://localhost:8080/"
        },
        "id": "ZFEcyXZ7jRRz",
        "outputId": "9e79222f-694b-402e-980f-b57d2ca96c3d"
      },
      "execution_count": null,
      "outputs": [
        {
          "output_type": "stream",
          "name": "stdout",
          "text": [
            "[[1.         0.10540926 0.12038585 ... 0.         0.         0.        ]\n",
            " [0.10540926 1.         0.0761387  ... 0.03651484 0.         0.        ]\n",
            " [0.12038585 0.0761387  1.         ... 0.         0.11145564 0.        ]\n",
            " ...\n",
            " [0.         0.03651484 0.         ... 1.         0.         0.04264014]\n",
            " [0.         0.         0.11145564 ... 0.         1.         0.        ]\n",
            " [0.         0.         0.         ... 0.04264014 0.         1.        ]]\n"
          ]
        }
      ]
    },
    {
      "cell_type": "code",
      "source": [
        "# get index of this movie\n",
        "movie_user_likes = \"Avatar\"\n",
        "movie_index = get_index_form_title(movie_user_likes)\n",
        "\n",
        "similar_movies = list(enumerate(cosine_sim[movie_index]))\n"
      ],
      "metadata": {
        "colab": {
          "base_uri": "https://localhost:8080/"
        },
        "id": "wftr2_TPjdFk",
        "outputId": "7fc8bb64-2386-427b-b5bb-d38c03a53056"
      },
      "execution_count": null,
      "outputs": [
        {
          "output_type": "stream",
          "name": "stdout",
          "text": [
            "0\n"
          ]
        }
      ]
    },
    {
      "cell_type": "code",
      "source": [
        "# Get a list of similar movies in desending order of similarity score\n",
        "sorted_similar_movies = sorted(similar_movies, key = lambda x:x[1], reverse = True)\n"
      ],
      "metadata": {
        "id": "PvvahPcakJdU"
      },
      "execution_count": null,
      "outputs": []
    },
    {
      "cell_type": "code",
      "source": [
        "# Print titles of first 50 movies\n",
        "for movie in sorted_similar_movies[1:51]:\n",
        "  print(get_title_form_index(movie[0]))"
      ],
      "metadata": {
        "colab": {
          "base_uri": "https://localhost:8080/"
        },
        "id": "KNc1Eb3AlBsL",
        "outputId": "441d36a4-2448-4961-cc5c-1340e2c61912"
      },
      "execution_count": null,
      "outputs": [
        {
          "output_type": "stream",
          "name": "stdout",
          "text": [
            "Guardians of the Galaxy\n",
            "Aliens\n",
            "Star Wars: Clone Wars: Volume 1\n",
            "Star Trek Into Darkness\n",
            "Star Trek Beyond\n",
            "Alien\n",
            "Lockout\n",
            "Jason X\n",
            "The Helix... Loaded\n",
            "Moonraker\n",
            "Planet of the Apes\n",
            "Galaxy Quest\n",
            "Gravity\n",
            "Alien³\n",
            "Jupiter Ascending\n",
            "The Wolverine\n",
            "Silent Running\n",
            "Zathura: A Space Adventure\n",
            "Trekkies\n",
            "Cargo\n",
            "Wing Commander\n",
            "Star Trek\n",
            "Lost in Space\n",
            "Babylon A.D.\n",
            "The Fifth Element\n",
            "Oblivion\n",
            "Titan A.E.\n",
            "AVP: Alien vs. Predator\n",
            "The Empire Strikes Back\n",
            "Dragonball Evolution\n",
            "Superman Returns\n",
            "Divergent\n",
            "John Carter\n",
            "The Black Hole\n",
            "The Ice Pirates\n",
            "Memoirs of an Invisible Man\n",
            "Starship Troopers\n",
            "The Astronaut's Wife\n",
            "Machete Kills\n",
            "Soldier\n",
            "The Abyss\n",
            "Damnation Alley\n",
            "Men in Black\n",
            "Space Cowboys\n",
            "Space Dogs\n",
            "The Time Machine\n",
            "Sheena\n",
            "Captain America: Civil War\n",
            "Star Trek: Insurrection\n",
            "Oz: The Great and Powerful\n"
          ]
        }
      ]
    },
    {
      "cell_type": "code",
      "source": [],
      "metadata": {
        "id": "4GUJB2RRlKLE"
      },
      "execution_count": null,
      "outputs": []
    }
  ]
}